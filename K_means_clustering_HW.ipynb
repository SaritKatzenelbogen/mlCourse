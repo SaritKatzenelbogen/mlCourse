{
  "cells": [
    {
      "cell_type": "code",
      "source": [
        "!git clone https://github.com/SaritKatzenelbogen/mlcourse mlcourse"
      ],
      "metadata": {
        "id": "fb3aeFEWIPkB",
        "outputId": "5bfdb305-0410-4df0-f32c-5387a0a02f74",
        "colab": {
          "base_uri": "https://localhost:8080/"
        }
      },
      "id": "fb3aeFEWIPkB",
      "execution_count": 1,
      "outputs": [
        {
          "output_type": "stream",
          "name": "stdout",
          "text": [
            "Cloning into 'mlcourse'...\n",
            "remote: Enumerating objects: 63, done.\u001b[K\n",
            "remote: Counting objects: 100% (63/63), done.\u001b[K\n",
            "remote: Compressing objects: 100% (60/60), done.\u001b[K\n",
            "remote: Total 63 (delta 24), reused 0 (delta 0), pack-reused 0\u001b[K\n",
            "Unpacking objects: 100% (63/63), done.\n"
          ]
        }
      ]
    },
    {
      "cell_type": "code",
      "execution_count": 2,
      "id": "marine-argument",
      "metadata": {
        "id": "marine-argument"
      },
      "outputs": [],
      "source": [
        "from sklearn.cluster import KMeans\n",
        "from sklearn import preprocessing\n",
        "import matplotlib.pyplot as plt\n",
        "import os\n",
        "import pandas as pd\n",
        "import numpy as np"
      ]
    },
    {
      "cell_type": "code",
      "execution_count": 13,
      "id": "civilian-guarantee",
      "metadata": {
        "id": "civilian-guarantee",
        "outputId": "2a8c5f51-78ea-4526-e47d-5b7374472c6c",
        "colab": {
          "base_uri": "https://localhost:8080/"
        }
      },
      "outputs": [
        {
          "output_type": "stream",
          "name": "stdout",
          "text": [
            "    Species  Weight  Length1  Length2  Length3   Height   Width\n",
            "70   Parkki   273.0     23.0     25.0     28.0  11.0880  4.1440\n",
            "72    Perch     5.9      7.5      8.4      8.8   2.1120  1.4080\n",
            "135    Pike   510.0     40.0     42.5     45.5   6.8250  4.4590\n",
            "113   Perch   700.0     34.0     36.0     38.3  10.6091  6.7408\n",
            "111   Perch   840.0     32.5     35.0     37.3  11.4884  7.7957\n",
            "121   Perch  1015.0     37.0     40.0     42.4  12.3808  7.4624\n",
            "104   Perch   265.0     25.4     27.5     28.9   7.0516  4.3350\n",
            "106   Perch   250.0     25.9     28.0     29.4   7.8204  4.2042\n",
            "118   Perch   820.0     36.6     39.0     41.3  12.4313  7.3514\n",
            "81    Perch    85.0     18.2     20.0     21.0   5.0820  2.7720\n"
          ]
        }
      ],
      "source": [
        "current_path2 = os.getcwd()#% Finding current directory of the notebook\n",
        "current_path2 =os.path.join(current_path2,'./mlcourse/Fish.csv') # Adding file name at the end of the address\n",
        "data2 = pd.read_csv(current_path2)# reading csv file given on current_path\n",
        "fish2 = data2.copy()\n",
        "print(fish2.sample(10))#Displaying 10 random samples from dataset\n",
        "xtrain2 =fish2.copy()\n",
        "xtrain2.drop(['Species'],axis=1,inplace=True) #Removing Species Column\n",
        "ytrain2 = fish2['Species']\n",
        "\n",
        "X_scaled = preprocessing.scale(xtrain2) # scaling so that mean =0 variance =1\n",
        "\n",
        "kmeans = KMeans(n_clusters=7, random_state=0).fit(X_scaled) # make 7 clusters and fit on normalized data"
      ]
    },
    {
      "cell_type": "code",
      "source": [
        "wcss=[]\n",
        "for i in range(1,20):\n",
        "  kmeans = KMeans(n_clusters=i, random_state=0).fit(X_scaled)\n",
        "  wcss.append(kmeans.inertia_)\n",
        "plt.plot(list(range(1,20)),wcss)\n",
        "print(\"10 is the best N\")"
      ],
      "metadata": {
        "id": "9gEvVLZhGU3b",
        "outputId": "b0bf1abd-0b56-4983-f36f-670f50552794",
        "colab": {
          "base_uri": "https://localhost:8080/",
          "height": 290
        }
      },
      "id": "9gEvVLZhGU3b",
      "execution_count": 48,
      "outputs": [
        {
          "output_type": "stream",
          "name": "stdout",
          "text": [
            "10 is the best N\n"
          ]
        },
        {
          "output_type": "display_data",
          "data": {
            "text/plain": [
              "<Figure size 432x288 with 1 Axes>"
            ],
            "image/png": "[encoded data removed]"
          },
          "metadata": {}
        }
      ]
    },
    {
      "cell_type": "code",
      "source": [
        ""
      ],
      "metadata": {
        "id": "98ZqBoyoIihc"
      },
      "id": "98ZqBoyoIihc",
      "execution_count": null,
      "outputs": []
    }
  ],
  "metadata": {
    "kernelspec": {
      "display_name": "Python 3",
      "language": "python",
      "name": "python3"
    },
    "language_info": {
      "codemirror_mode": {
        "name": "ipython",
        "version": 3
      },
      "file_extension": ".py",
      "mimetype": "text/x-python",
      "name": "python",
      "nbconvert_exporter": "python",
      "pygments_lexer": "ipython3",
      "version": "3.6.12"
    },
    "colab": {
      "name": "K-means clustering.ipynb",
      "provenance": []
    }
  },
  "nbformat": 4,
  "nbformat_minor": 5
}