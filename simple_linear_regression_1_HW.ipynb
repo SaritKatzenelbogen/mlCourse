{
  "cells": [
    {
      "cell_type": "markdown",
      "metadata": {
        "id": "view-in-github",
        "colab_type": "text"
      },
      "source": [
        "<a href=\"https://colab.research.google.com/github/SaritKatzenelbogen/mlCourse/blob/main/Copy_of_simple_linear_regression_1.ipynb\" target=\"_parent\"><img src=\"https://colab.research.google.com/assets/colab-badge.svg\" alt=\"Open In Colab\"/></a>"
      ]
    },
    {
      "cell_type": "code",
      "source": [
        "!git clone https://github.com/SaritKatzenelbogen/mlcourse mlcourse"
      ],
      "metadata": {
        "id": "aZ0T2zvh7yK7",
        "outputId": "66a4bab9-d597-43f7-dc8a-a0754b27f1b7",
        "colab": {
          "base_uri": "https://localhost:8080/"
        }
      },
      "execution_count": null,
      "outputs": [
        {
          "output_type": "stream",
          "name": "stdout",
          "text": [
            "fatal: destination path 'mlcourse' already exists and is not an empty directory.\n"
          ]
        }
      ]
    },
    {
      "cell_type": "code",
      "execution_count": null,
      "metadata": {
        "id": "R9baDh81zFIX"
      },
      "outputs": [],
      "source": [
        "import pandas as pd\n",
        "import numpy as np\n",
        "import matplotlib.pyplot as plt\n",
        "%matplotlib inline\n",
        "import datetime\n",
        "from scipy import stats"
      ]
    },
    {
      "cell_type": "code",
      "execution_count": null,
      "metadata": {
        "id": "bKggYlrnzFIa"
      },
      "outputs": [],
      "source": [
        "df =pd.read_csv(\"./mlcourse/Salary_Data.csv\")"
      ]
    },
    {
      "cell_type": "code",
      "execution_count": null,
      "metadata": {
        "id": "krhip4SPzFIc"
      },
      "outputs": [],
      "source": [
        "x=df.iloc[:,:-1].values\n",
        "y=df.iloc[:,-1].values"
      ]
    },
    {
      "cell_type": "code",
      "execution_count": null,
      "metadata": {
        "id": "f-FKhCCqzFId"
      },
      "outputs": [],
      "source": [
        "from sklearn.model_selection import train_test_split\n",
        "x_train,x_test,y_train,y_test = train_test_split(x,y,test_size=0.3,random_state=0)"
      ]
    },
    {
      "cell_type": "code",
      "execution_count": null,
      "metadata": {
        "id": "cz4azckuzFIg",
        "outputId": "c965906b-38c2-4802-e8c6-9903b3996e08",
        "colab": {
          "base_uri": "https://localhost:8080/"
        }
      },
      "outputs": [
        {
          "output_type": "execute_result",
          "data": {
            "text/plain": [
              "LinearRegression()"
            ]
          },
          "metadata": {},
          "execution_count": 10
        }
      ],
      "source": [
        "# training the simple linear regresion on trainning set\n",
        "from sklearn.linear_model import LinearRegression\n",
        "regressor = LinearRegression()\n",
        "regressor.fit(x_train,y_train)"
      ]
    },
    {
      "cell_type": "code",
      "execution_count": null,
      "metadata": {
        "id": "MycPxashzFIh"
      },
      "outputs": [],
      "source": [
        "y_predict = regressor.predict(x_test)"
      ]
    },
    {
      "cell_type": "code",
      "source": [
        "#1\n",
        "import matplotlib.pyplot as plt\n",
        "plt.scatter(x_test,y_test-y_predict, c =\"red\")"
      ],
      "metadata": {
        "id": "oliBNDwfRqsT",
        "outputId": "51714aca-0233-4935-a41d-da1db3bb62ca",
        "colab": {
          "base_uri": "https://localhost:8080/",
          "height": 283
        }
      },
      "execution_count": null,
      "outputs": [
        {
          "output_type": "execute_result",
          "data": {
            "text/plain": [
              "<matplotlib.collections.PathCollection at 0x7f59e09b6e90>"
            ]
          },
          "metadata": {},
          "execution_count": 12
        },
        {
          "output_type": "display_data",
          "data": {
            "text/plain": [
              "<Figure size 432x288 with 1 Axes>"
            ],
            "image/png": "[encoded data removed]"
          },
          "metadata": {
            "needs_background": "light"
          }
        }
      ]
    },
    {
      "cell_type": "code",
      "source": [
        "#2\n",
        "import sklearn.metrics\n",
        "mse=sklearn.metrics.mean_squared_error(y_test,y_predict)\n",
        "print(\"MSE: \"+str(mse))"
      ],
      "metadata": {
        "id": "1rfJiZcRSsbA",
        "outputId": "5568b7b3-e7b2-41bb-aa8d-4271c8f7ee9c",
        "colab": {
          "base_uri": "https://localhost:8080/"
        }
      },
      "execution_count": null,
      "outputs": [
        {
          "output_type": "stream",
          "name": "stdout",
          "text": [
            "MSE: 23370078.800832972\n"
          ]
        }
      ]
    },
    {
      "cell_type": "code",
      "source": [
        "#3\n",
        "#P-VALUE and R2 on the train data\n",
        "from scipy import stats\n",
        "y_train=y_train.reshape((21,1))\n",
        "slope, intercept, r_val, p_val,std_err = stats.linregress(x_train[:,0],y_train[:,0])\n",
        "print(\"p-val: \"+str(p_val))\n",
        "print(\"r-val: \"+str(r_val))"
      ],
      "metadata": {
        "id": "Vig5Rq7VqL1_",
        "outputId": "3abfeb9b-ce7c-40d4-9b02-59775fbdad4a",
        "colab": {
          "base_uri": "https://localhost:8080/"
        }
      },
      "execution_count": null,
      "outputs": [
        {
          "output_type": "stream",
          "name": "stdout",
          "text": [
            "p-val: 3.1195253367758824e-13\n",
            "r-val: 0.9707614357911721\n"
          ]
        }
      ]
    },
    {
      "cell_type": "code",
      "execution_count": null,
      "metadata": {
        "id": "t7YiIwmdzFIl"
      },
      "outputs": [],
      "source": [
        ""
      ]
    }
  ],
  "metadata": {
    "kernelspec": {
      "display_name": "Python 3",
      "language": "python",
      "name": "python3"
    },
    "language_info": {
      "codemirror_mode": {
        "name": "ipython",
        "version": 3
      },
      "file_extension": ".py",
      "mimetype": "text/x-python",
      "name": "python",
      "nbconvert_exporter": "python",
      "pygments_lexer": "ipython3",
      "version": "3.8.5"
    },
    "colab": {
      "name": "Copy of simple linear regression 1.ipynb",
      "provenance": [],
      "include_colab_link": true
    }
  },
  "nbformat": 4,
  "nbformat_minor": 0
}
